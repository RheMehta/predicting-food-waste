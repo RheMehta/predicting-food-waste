{
 "cells": [
  {
   "cell_type": "code",
   "execution_count": 28,
   "metadata": {},
   "outputs": [],
   "source": [
    "# reading csv files\n",
    "\n",
    "import os\n",
    "import glob\n",
    "import pandas as pd\n",
    "\n",
    "class ReadCSV:\n",
    "    def __init__(self, parent_dir): #initialising class with parent directory\n",
    "        self.parent_dir = parent_dir\n",
    "        os.chdir(parent_dir)\n",
    "        self.folder = os.path.join(self.parent_dir) # folder where data retrieve are stored\n",
    "\n",
    "    def list_of_dfs(self): # csvs to dataframe, each one in a list by month\n",
    "        dfs = []\n",
    "        for file_name in glob.glob('*.csv'):\n",
    "            x = pd.read_csv(file_name, header=1) #making the first row the header \n",
    "            x[\"Month\"] = file_name.split(\"- \")[1].split(\".\")[0] #getting the month into a column, with header \"Month\"\n",
    "            dfs.append(x)\n",
    "        return dfs #list of csvs\n",
    "\n",
    "    def merged_dfs(self): #all the dataframes into one big data frame\n",
    "        dfs = self.list_of_dfs()\n",
    "        mergeddf = pd.concat(dfs)\n",
    "        return mergeddf\n",
    "            \n",
    "\n"
   ]
  },
  {
   "cell_type": "code",
   "execution_count": 31,
   "metadata": {},
   "outputs": [
    {
     "data": {
      "text/plain": [
       "5333"
      ]
     },
     "execution_count": 31,
     "metadata": {},
     "output_type": "execute_result"
    }
   ],
   "source": [
    "\n",
    "class Main:\n",
    "    def __init__(self):\n",
    "        return\n",
    "    \n",
    "    def get_data(self, parentdir):\n",
    "        csvs = ReadCSV(parentdir)\n",
    "        return csvs.merged_dfs()\n",
    "\n",
    "main = Main()\n",
    "csvs = main.get_data(\"/Users/rebecca/predicting-food-waste/data\")\n",
    "#len(csvs) #list of csvs\n",
    "csvs.head()\n",
    "len(csvs)\n",
    "\n"
   ]
  }
 ],
 "metadata": {
  "kernelspec": {
   "display_name": "Python 3",
   "language": "python",
   "name": "python3"
  },
  "language_info": {
   "codemirror_mode": {
    "name": "ipython",
    "version": 3
   },
   "file_extension": ".py",
   "mimetype": "text/x-python",
   "name": "python",
   "nbconvert_exporter": "python",
   "pygments_lexer": "ipython3",
   "version": "3.10.8"
  },
  "orig_nbformat": 4
 },
 "nbformat": 4,
 "nbformat_minor": 2
}
